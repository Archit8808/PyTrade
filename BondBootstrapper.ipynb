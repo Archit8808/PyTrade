{
 "cells": [
  {
   "cell_type": "code",
   "execution_count": 20,
   "metadata": {},
   "outputs": [
    {
     "name": "stdout",
     "output_type": "stream",
     "text": [
      "0\n",
      "0.030227275620096212\n"
     ]
    }
   ],
   "source": [
    "import numpy as np \n",
    "\n",
    "class Bond() :\n",
    "    def __init__(self,rate,maturity_time,price,fprice,compounding_freq) :\n",
    "        self.rate = rate \n",
    "        self.maturity_time = maturity_time \n",
    "        self.price = price \n",
    "        self.compounding_freq = compounding_freq \n",
    "        self.fprice = fprice\n",
    "        \n",
    "    def bond_yield(self,time) : \n",
    "        if self.rate ==  0 :\n",
    "            discfactor_t =  self.price/self.fprice \n",
    "            yield_t = (np.log(discfactor_t)/time)\n",
    "            return yield_t\n",
    "            \n",
    "\n",
    "bond1 = Bond(0,0.5,1000,985,0)\n",
    "print(bond1.rate)\n",
    "val = bond1.bond_yield(0.5)\n",
    "print(val)\n",
    "\n",
    "\n"
   ]
  },
  {
   "cell_type": "code",
   "execution_count": null,
   "metadata": {},
   "outputs": [],
   "source": []
  }
 ],
 "metadata": {
  "kernelspec": {
   "display_name": "Python 3.10.2 64-bit",
   "language": "python",
   "name": "python3"
  },
  "language_info": {
   "codemirror_mode": {
    "name": "ipython",
    "version": 3
   },
   "file_extension": ".py",
   "mimetype": "text/x-python",
   "name": "python",
   "nbconvert_exporter": "python",
   "pygments_lexer": "ipython3",
   "version": "3.10.2"
  },
  "orig_nbformat": 4,
  "vscode": {
   "interpreter": {
    "hash": "a42ccb73e7d9bfdf27e036f1d2b8b681e55fc0743cc5586bc2474d4a60f4b886"
   }
  }
 },
 "nbformat": 4,
 "nbformat_minor": 2
}

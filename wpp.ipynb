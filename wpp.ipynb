{
 "cells": [
  {
   "cell_type": "code",
   "execution_count": 2,
   "metadata": {},
   "outputs": [
    {
     "data": {
      "text/html": [
       "        <script type=\"text/javascript\">\n",
       "        window.PlotlyConfig = {MathJaxConfig: 'local'};\n",
       "        if (window.MathJax && window.MathJax.Hub && window.MathJax.Hub.Config) {window.MathJax.Hub.Config({SVG: {font: \"STIX-Web\"}});}\n",
       "        if (typeof require !== 'undefined') {\n",
       "        require.undef(\"plotly\");\n",
       "        requirejs.config({\n",
       "            paths: {\n",
       "                'plotly': ['https://cdn.plot.ly/plotly-2.12.1.min']\n",
       "            }\n",
       "        });\n",
       "        require(['plotly'], function(Plotly) {\n",
       "            window._Plotly = Plotly;\n",
       "        });\n",
       "        }\n",
       "        </script>\n",
       "        "
      ]
     },
     "metadata": {},
     "output_type": "display_data"
    }
   ],
   "source": [
    "import datetime as dt \n",
    "import pandas as pd \n",
    "import numpy as np \n",
    "from pandas_datareader import data as pdr \n",
    "import plotly.offline as pyo \n",
    "from plotly.subplots import make_subplots\n",
    "\n",
    "pyo.init_notebook_mode(connected= True) \n",
    "pd.options.plotting.backend = 'plotly' "
   ]
  },
  {
   "cell_type": "code",
   "execution_count": 3,
   "metadata": {},
   "outputs": [
    {
     "data": {
      "text/plain": [
       "Date\n",
       "2016-05-17    114.440002\n",
       "2016-05-18    115.019997\n",
       "2016-05-19    114.650002\n",
       "2016-05-20    114.720001\n",
       "2016-05-23    114.180000\n",
       "Name: Close, dtype: float64"
      ]
     },
     "execution_count": 3,
     "metadata": {},
     "output_type": "execute_result"
    }
   ],
   "source": [
    "end = dt.datetime(2021,12,29)\n",
    "start = dt.datetime(2016,5,18)\n",
    "\n",
    "df_wpp = pdr.get_data_yahoo('WPP',start , end)\n",
    "df_wpp = df_wpp['Close']\n",
    "df_wpp.head()\n"
   ]
  },
  {
   "cell_type": "code",
   "execution_count": 4,
   "metadata": {},
   "outputs": [
    {
     "data": {
      "text/plain": [
       "0.9894194858101918"
      ]
     },
     "execution_count": 4,
     "metadata": {},
     "output_type": "execute_result"
    }
   ],
   "source": [
    "df_wpp_returns = df_wpp.pct_change(1)\n",
    "df_wpp_returns_mean = df_wpp_returns.mean() \n",
    "df_wpp_returns_annualised = (1+ df_wpp_returns_mean)**(252)\n",
    "df_wpp_returns_annualised"
   ]
  },
  {
   "cell_type": "code",
   "execution_count": 5,
   "metadata": {},
   "outputs": [
    {
     "data": {
      "text/plain": [
       "378.8848395844125"
      ]
     },
     "execution_count": 5,
     "metadata": {},
     "output_type": "execute_result"
    }
   ],
   "source": [
    "df_wpp_std = np.std(df_wpp,ddof=1)\n",
    "df_wpp_std\n",
    "annual_df_wpp_std = df_wpp_std * np.sqrt(252)\n",
    "annual_df_wpp_std"
   ]
  },
  {
   "cell_type": "code",
   "execution_count": 6,
   "metadata": {},
   "outputs": [
    {
     "data": {
      "text/plain": [
       "0.09299140820527453"
      ]
     },
     "execution_count": 6,
     "metadata": {},
     "output_type": "execute_result"
    }
   ],
   "source": [
    "def PortfolioRisk(w1,w2,std1,std2,cov12):\n",
    "    risk = ((w1**(2)) * (std1**(2))) + ((w2**(2))* (std2**(2))) + 2*w1*w2*(cov12)\n",
    "    return np.sqrt(risk)\n",
    "PortfolioRisk(0.6 , 0.4 , .1439 , .0953 , -.00054235)\n"
   ]
  },
  {
   "cell_type": "code",
   "execution_count": 35,
   "metadata": {},
   "outputs": [
    {
     "data": {
      "text/plain": [
       "array([[1.71879027e-02, 2.16782740e+00],\n",
       "       [2.16782740e+00, 3.13985350e+02]])"
      ]
     },
     "execution_count": 35,
     "metadata": {},
     "output_type": "execute_result"
    }
   ],
   "source": [
    "k = [ ] \n",
    "f = [] \n",
    "l = [33.29, 18.29, 14.21, - 3.84, 2.18, 8.21]\n",
    "for i in l : \n",
    "    i = i - .1206\n",
    "    i = i/100 \n",
    "    k.append(i)\n",
    "m = [28.52, 21.44, 16.82, - 11.29, - 14.30, 3.18]\n",
    "for i in m : \n",
    "    i = i - 12.06\n",
    "    i = i/100 \n",
    "    f.append(i)\n",
    "covv = np.cov(k,m)\n",
    "covv\n"
   ]
  },
  {
   "cell_type": "code",
   "execution_count": null,
   "metadata": {},
   "outputs": [],
   "source": []
  },
  {
   "cell_type": "code",
   "execution_count": null,
   "metadata": {},
   "outputs": [],
   "source": []
  },
  {
   "cell_type": "code",
   "execution_count": null,
   "metadata": {},
   "outputs": [],
   "source": []
  },
  {
   "cell_type": "code",
   "execution_count": null,
   "metadata": {},
   "outputs": [],
   "source": []
  },
  {
   "cell_type": "code",
   "execution_count": null,
   "metadata": {},
   "outputs": [],
   "source": []
  },
  {
   "cell_type": "code",
   "execution_count": null,
   "metadata": {},
   "outputs": [],
   "source": []
  },
  {
   "cell_type": "code",
   "execution_count": null,
   "metadata": {},
   "outputs": [],
   "source": []
  },
  {
   "cell_type": "code",
   "execution_count": null,
   "metadata": {},
   "outputs": [],
   "source": []
  }
 ],
 "metadata": {
  "kernelspec": {
   "display_name": "Python 3.10.2 64-bit",
   "language": "python",
   "name": "python3"
  },
  "language_info": {
   "codemirror_mode": {
    "name": "ipython",
    "version": 3
   },
   "file_extension": ".py",
   "mimetype": "text/x-python",
   "name": "python",
   "nbconvert_exporter": "python",
   "pygments_lexer": "ipython3",
   "version": "3.10.2"
  },
  "orig_nbformat": 4,
  "vscode": {
   "interpreter": {
    "hash": "a42ccb73e7d9bfdf27e036f1d2b8b681e55fc0743cc5586bc2474d4a60f4b886"
   }
  }
 },
 "nbformat": 4,
 "nbformat_minor": 2
}
